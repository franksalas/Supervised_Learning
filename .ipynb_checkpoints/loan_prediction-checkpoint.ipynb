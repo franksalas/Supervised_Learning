{
 "cells": [
  {
   "cell_type": "code",
   "execution_count": 1,
   "metadata": {},
   "outputs": [
    {
     "name": "stdout",
     "output_type": "stream",
     "text": [
      "Collecting kaggle\n",
      "  Downloading https://files.pythonhosted.org/packages/8d/04/65f961423898104bc3779b0be1e89973ee616840dedf49b385b18a1c34ff/kaggle-1.3.12.tar.gz\n",
      "Collecting urllib3<1.23.0,>=1.15 (from kaggle)\n",
      "  Using cached https://files.pythonhosted.org/packages/63/cb/6965947c13a94236f6d4b8223e21beb4d576dc72e8130bd7880f600839b8/urllib3-1.22-py2.py3-none-any.whl\n",
      "Requirement already satisfied: six>=1.10 in /home/frank/miniconda3/envs/supervised/lib/python3.6/site-packages (from kaggle) (1.11.0)\n",
      "Requirement already satisfied: certifi in /home/frank/miniconda3/envs/supervised/lib/python3.6/site-packages (from kaggle) (2018.4.16)\n",
      "Requirement already satisfied: python-dateutil in /home/frank/miniconda3/envs/supervised/lib/python3.6/site-packages (from kaggle) (2.7.3)\n",
      "Collecting requests (from kaggle)\n",
      "  Using cached https://files.pythonhosted.org/packages/65/47/7e02164a2a3db50ed6d8a6ab1d6d60b69c4c3fdf57a284257925dfc12bda/requests-2.19.1-py2.py3-none-any.whl\n",
      "Collecting tqdm (from kaggle)\n",
      "\u001b[?25l  Downloading https://files.pythonhosted.org/packages/93/24/6ab1df969db228aed36a648a8959d1027099ce45fad67532b9673d533318/tqdm-4.23.4-py2.py3-none-any.whl (42kB)\n",
      "\u001b[K    100% |████████████████████████████████| 51kB 787kB/s ta 0:00:011\n",
      "\u001b[?25hCollecting chardet<3.1.0,>=3.0.2 (from requests->kaggle)\n",
      "  Using cached https://files.pythonhosted.org/packages/bc/a9/01ffebfb562e4274b6487b4bb1ddec7ca55ec7510b22e4c51f14098443b8/chardet-3.0.4-py2.py3-none-any.whl\n",
      "Collecting idna<2.8,>=2.5 (from requests->kaggle)\n",
      "  Using cached https://files.pythonhosted.org/packages/4b/2a/0276479a4b3caeb8a8c1af2f8e4355746a97fab05a372e4a2c6a6b876165/idna-2.7-py2.py3-none-any.whl\n",
      "Building wheels for collected packages: kaggle\n",
      "  Running setup.py bdist_wheel for kaggle ... \u001b[?25ldone\n",
      "\u001b[?25h  Stored in directory: /home/frank/.cache/pip/wheels/61/d6/e6/38fc0e2316f49b91aafdaf9a8d7756a9906b2ad7e501c1e165\n",
      "Successfully built kaggle\n",
      "Installing collected packages: urllib3, chardet, idna, requests, tqdm, kaggle\n",
      "Successfully installed chardet-3.0.4 idna-2.7 kaggle-1.3.12 requests-2.19.1 tqdm-4.23.4 urllib3-1.22\n"
     ]
    }
   ],
   "source": [
    "! pip install kaggle"
   ]
  },
  {
   "cell_type": "code",
   "execution_count": null,
   "metadata": {},
   "outputs": [],
   "source": []
  }
 ],
 "metadata": {
  "kernelspec": {
   "display_name": "Python 3",
   "language": "python",
   "name": "python3"
  },
  "language_info": {
   "codemirror_mode": {
    "name": "ipython",
    "version": 3
   },
   "file_extension": ".py",
   "mimetype": "text/x-python",
   "name": "python",
   "nbconvert_exporter": "python",
   "pygments_lexer": "ipython3",
   "version": "3.6.6"
  }
 },
 "nbformat": 4,
 "nbformat_minor": 2
}
